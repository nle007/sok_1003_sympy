{
 "cells": [
  {
   "cell_type": "code",
   "execution_count": 2,
   "id": "28916eeb-d710-479a-aa4f-68b6dd0484f9",
   "metadata": {},
   "outputs": [],
   "source": [
    "import matplotlib.pyplot as plt\n",
    "import numpy as np\n",
    "from sympy import symbols, Eq, solve, sqrt, ln, exp\n",
    "import sympy as sp"
   ]
  },
  {
   "cell_type": "markdown",
   "id": "5759e9ec-36dd-48d6-b692-fe5f79d2a1eb",
   "metadata": {},
   "source": [
    "# Oppgave 15"
   ]
  },
  {
   "cell_type": "markdown",
   "id": "d751d3db-2e22-4a99-996f-10a7f3541a64",
   "metadata": {},
   "source": [
    "## 1a\n"
   ]
  },
  {
   "cell_type": "code",
   "execution_count": 5,
   "id": "ee03e9b3-bc89-4830-aebd-9f7824d7e1bd",
   "metadata": {},
   "outputs": [
    {
     "data": {
      "text/plain": [
       "{x: -1, y: 2}"
      ]
     },
     "execution_count": 5,
     "metadata": {},
     "output_type": "execute_result"
    }
   ],
   "source": [
    "x, y = sp.symbols(\"x y\")\n",
    "symbols=[x,y]\n",
    "equations=[\n",
    "    sp.Eq(2*x + 4*y, 6),\n",
    "    sp.Eq(-2*x + y, 4)]\n",
    "solve(equations, symbols)"
   ]
  },
  {
   "cell_type": "markdown",
   "id": "e9c731e4-5ae8-4c86-86a8-d11674539cd5",
   "metadata": {},
   "source": [
    "## 1b"
   ]
  },
  {
   "cell_type": "code",
   "execution_count": 7,
   "id": "aa1be6bd-ffe4-4387-a7ac-1ef271bf18e1",
   "metadata": {},
   "outputs": [
    {
     "data": {
      "text/plain": [
       "[(-1, -1), (2, 5)]"
      ]
     },
     "execution_count": 7,
     "metadata": {},
     "output_type": "execute_result"
    }
   ],
   "source": [
    "x, y = sp.symbols(\"x y\")\n",
    "symbols=[x,y]\n",
    "equations=[\n",
    "    sp.Eq(2*x - y, -1),\n",
    "    sp.Eq(x**2 + x - y, 1)]\n",
    "solve(equations, symbols)"
   ]
  },
  {
   "cell_type": "markdown",
   "id": "d0f7ecec-a21f-49c1-9b7b-df872bd1937d",
   "metadata": {},
   "source": [
    "## 2a"
   ]
  },
  {
   "cell_type": "code",
   "execution_count": 9,
   "id": "48ec19b6-b777-41dc-a2d2-2a1b0ddcf9b1",
   "metadata": {},
   "outputs": [
    {
     "data": {
      "text/plain": [
       "{x: 4, y: 0}"
      ]
     },
     "execution_count": 9,
     "metadata": {},
     "output_type": "execute_result"
    }
   ],
   "source": [
    "x, y = sp.symbols(\"x y\")\n",
    "symbols=[x,y]\n",
    "equations=[\n",
    "    sp.Eq(3*x - 12,-6*y),\n",
    "    sp.Eq(4*x - 8*y,16)]\n",
    "solve(equations, symbols)"
   ]
  },
  {
   "cell_type": "markdown",
   "id": "3658c982-263d-4a03-8211-08906abd679e",
   "metadata": {},
   "source": [
    "## 2b"
   ]
  },
  {
   "cell_type": "code",
   "execution_count": 11,
   "id": "9f884520-de06-4047-a508-6bcf026deac9",
   "metadata": {},
   "outputs": [
    {
     "data": {
      "text/plain": [
       "[(-15/2, 31/4), (2, 3)]"
      ]
     },
     "execution_count": 11,
     "metadata": {},
     "output_type": "execute_result"
    }
   ],
   "source": [
    "x, y = sp.symbols(\"x y\")\n",
    "symbols=[x,y]\n",
    "equations=[\n",
    "    sp.Eq(x**2 + 4*x - 3,3*y),\n",
    "    sp.Eq(2*y,8 - x)]\n",
    "solve(equations, symbols)"
   ]
  },
  {
   "cell_type": "markdown",
   "id": "072dbfa1-e395-4126-b239-8d33b1142b09",
   "metadata": {},
   "source": [
    "# Oppgave 16"
   ]
  },
  {
   "cell_type": "markdown",
   "id": "647a6c0e-3cc6-4910-9cd7-1d596c781c6e",
   "metadata": {},
   "source": [
    "## 1a "
   ]
  },
  {
   "cell_type": "code",
   "execution_count": 14,
   "id": "c547a9f0-67fc-4a6a-885d-b780437bee6d",
   "metadata": {},
   "outputs": [
    {
     "data": {
      "text/plain": [
       "{x: 2, y: 2}"
      ]
     },
     "execution_count": 14,
     "metadata": {},
     "output_type": "execute_result"
    }
   ],
   "source": [
    "x, y = sp.symbols(\"x y\")\n",
    "symbols=[x,y]\n",
    "equations=[\n",
    "    sp.Eq(4*x + 2*y, 12),\n",
    "    sp.Eq(6*x - 2*y,8)]\n",
    "solve(equations, symbols)"
   ]
  },
  {
   "cell_type": "markdown",
   "id": "85d3b969-7b30-4058-8b9e-943d8ba58740",
   "metadata": {},
   "source": [
    "## 1b"
   ]
  },
  {
   "cell_type": "code",
   "execution_count": 16,
   "id": "23577282-101e-4ecb-b298-bea443fd3cea",
   "metadata": {},
   "outputs": [
    {
     "data": {
      "text/plain": [
       "[(0, -5), (12, 1)]"
      ]
     },
     "execution_count": 16,
     "metadata": {},
     "output_type": "execute_result"
    }
   ],
   "source": [
    "x, y = sp.symbols(\"x y\")\n",
    "symbols=[x,y]\n",
    "equations=[\n",
    "    sp.Eq(2*x + y**2,25),\n",
    "    sp.Eq(x - 2*y,10)]\n",
    "solve(equations, symbols)"
   ]
  },
  {
   "cell_type": "markdown",
   "id": "7aea83ba-3f72-44ae-aac5-5fd7fad7bff7",
   "metadata": {},
   "source": [
    "## 2a"
   ]
  },
  {
   "cell_type": "code",
   "execution_count": 18,
   "id": "8fc61be8-8fd9-4175-ad89-7ae97f18b588",
   "metadata": {},
   "outputs": [
    {
     "data": {
      "text/plain": [
       "{x: 4, y: 2}"
      ]
     },
     "execution_count": 18,
     "metadata": {},
     "output_type": "execute_result"
    }
   ],
   "source": [
    "x, y = sp.symbols(\"x y\")\n",
    "symbols=[x,y]\n",
    "equations=[\n",
    "    sp.Eq(4*x - 4*y,8),\n",
    "    sp.Eq(9*x - 5*y,26)]\n",
    "solve(equations, symbols)\n"
   ]
  },
  {
   "cell_type": "markdown",
   "id": "02e9183d-939b-430c-8e3c-6ebc98633be1",
   "metadata": {},
   "source": [
    "## 2b"
   ]
  },
  {
   "cell_type": "code",
   "execution_count": 20,
   "id": "45cb03a6-343a-45c0-ba7a-2b01c8df982e",
   "metadata": {},
   "outputs": [
    {
     "data": {
      "text/plain": [
       "[(-9, -2*sqrt(3)), (-9, 2*sqrt(3)), (7, -2), (7, 2)]"
      ]
     },
     "execution_count": 20,
     "metadata": {},
     "output_type": "execute_result"
    }
   ],
   "source": [
    "x, y = sp.symbols(\"x y\")\n",
    "symbols=[x,y]\n",
    "equations=[\n",
    "    sp.Eq(x + 2*y**2,15),\n",
    "    sp.Eq(x**2 - 4*y**2,33)]\n",
    "solve(equations, symbols)"
   ]
  },
  {
   "cell_type": "markdown",
   "id": "e0229cab-f43b-4f89-91a6-6baf7eba2efb",
   "metadata": {},
   "source": [
    "# Oppgave 17"
   ]
  },
  {
   "cell_type": "markdown",
   "id": "2cf3f4b9-798b-4fc3-b6e8-e9d78dea8be6",
   "metadata": {},
   "source": [
    "## 1a"
   ]
  },
  {
   "cell_type": "code",
   "execution_count": 23,
   "id": "abae21a7-8887-4bb5-83c3-609fd9daf92d",
   "metadata": {},
   "outputs": [
    {
     "data": {
      "text/plain": [
       "[(0, -4), (0, 4), (15, -1), (15, 1)]"
      ]
     },
     "execution_count": 23,
     "metadata": {},
     "output_type": "execute_result"
    }
   ],
   "source": [
    "x, y = sp.symbols(\"x y\")\n",
    "symbols=[x,y]\n",
    "equations=[\n",
    "    sp.Eq(x*y**2 - x,0),\n",
    "    sp.Eq(x + y**2,16)]\n",
    "solve(equations, symbols)"
   ]
  },
  {
   "cell_type": "markdown",
   "id": "d3350c7d-ca47-4f34-b726-558164dafb2c",
   "metadata": {},
   "source": [
    "## 1b"
   ]
  },
  {
   "cell_type": "code",
   "execution_count": 25,
   "id": "599faf34-4b28-43d3-9587-f4a49c5b590d",
   "metadata": {},
   "outputs": [
    {
     "data": {
      "text/plain": [
       "[(-10, 0), (-6, -8), (-6, 8), (6, -8), (6, 8), (10, 0)]"
      ]
     },
     "execution_count": 25,
     "metadata": {},
     "output_type": "execute_result"
    }
   ],
   "source": [
    "x, y = sp.symbols(\"x y\")\n",
    "symbols=[x,y]\n",
    "equations=[\n",
    "    sp.Eq(x**2 + y**2,100),\n",
    "    sp.Eq(x**2*y - 36*y,0)]\n",
    "solve(equations, symbols)"
   ]
  },
  {
   "cell_type": "markdown",
   "id": "56a554ef-46db-4e96-87f5-9472b2a79465",
   "metadata": {},
   "source": [
    "## 2a"
   ]
  },
  {
   "cell_type": "code",
   "execution_count": 27,
   "id": "4d6a84e8-fcee-4816-8c76-4c1eaa4107dd",
   "metadata": {},
   "outputs": [
    {
     "data": {
      "text/plain": [
       "[(-3, -7), (-3, 7), (0, -sqrt(58)), (0, sqrt(58)), (3, -7), (3, 7)]"
      ]
     },
     "execution_count": 27,
     "metadata": {},
     "output_type": "execute_result"
    }
   ],
   "source": [
    "x, y = sp.symbols(\"x y\")\n",
    "symbols=[x,y]\n",
    "equations=[\n",
    "    sp.Eq(x*y**2-49*x,0),\n",
    "    sp.Eq(x**2+y**2,58)]\n",
    "solve(equations, symbols)"
   ]
  },
  {
   "cell_type": "markdown",
   "id": "31e62a0d-2a11-410a-906c-91a79d507134",
   "metadata": {},
   "source": [
    "## 2b"
   ]
  },
  {
   "cell_type": "code",
   "execution_count": 29,
   "id": "f191cc0c-e7a1-49d0-98fa-b10ecbd94c8a",
   "metadata": {},
   "outputs": [
    {
     "data": {
      "text/plain": [
       "[(-1.11803398874989, 0.0),\n",
       " (-0.500000000000000, -1.00000000000000),\n",
       " (-0.500000000000000, 1.00000000000000),\n",
       " (1.11803398874989, 0.0)]"
      ]
     },
     "execution_count": 29,
     "metadata": {},
     "output_type": "execute_result"
    }
   ],
   "source": [
    "x, y = sp.symbols(\"x y\")\n",
    "symbols=[x,y]\n",
    "equations=[\n",
    "    sp.Eq(x**2+y**2,5/4),\n",
    "    sp.Eq(2*x*y+y,0)]\n",
    "solve(equations, symbols)"
   ]
  },
  {
   "cell_type": "markdown",
   "id": "284cf348-d0f3-4cd7-9bb9-f9a4f8b63e99",
   "metadata": {},
   "source": [
    "# Oppgave 19"
   ]
  },
  {
   "cell_type": "markdown",
   "id": "4987f0fe-eee7-4c13-be92-7b053db8799b",
   "metadata": {},
   "source": [
    "## 1a"
   ]
  },
  {
   "cell_type": "code",
   "execution_count": 32,
   "id": "2c852b3b-cb3a-42f1-8088-5fe3173cd5eb",
   "metadata": {},
   "outputs": [
    {
     "data": {
      "text/latex": [
       "$\\displaystyle 5 x^{4}$"
      ],
      "text/plain": [
       "5*x**4"
      ]
     },
     "execution_count": 32,
     "metadata": {},
     "output_type": "execute_result"
    }
   ],
   "source": [
    "sp.diff(x**5, x)"
   ]
  },
  {
   "cell_type": "markdown",
   "id": "2927440d-00be-4f5e-98c8-b913430a9dea",
   "metadata": {},
   "source": [
    "## 1b"
   ]
  },
  {
   "cell_type": "code",
   "execution_count": 34,
   "id": "cc8eceb0-c127-4506-b973-cbfb67bf2361",
   "metadata": {},
   "outputs": [
    {
     "data": {
      "text/latex": [
       "$\\displaystyle 1$"
      ],
      "text/plain": [
       "1"
      ]
     },
     "execution_count": 34,
     "metadata": {},
     "output_type": "execute_result"
    }
   ],
   "source": [
    "sp.diff(x+12,x)"
   ]
  },
  {
   "cell_type": "markdown",
   "id": "4a858f44-ea8d-4aba-82bc-665e28fe6da1",
   "metadata": {},
   "source": [
    "## 1c"
   ]
  },
  {
   "cell_type": "code",
   "execution_count": 36,
   "id": "4650df88-00d7-46ee-9ca2-63409cc60f32",
   "metadata": {},
   "outputs": [
    {
     "data": {
      "text/latex": [
       "$\\displaystyle 3 x^{2} + 8 x$"
      ],
      "text/plain": [
       "3*x**2 + 8*x"
      ]
     },
     "execution_count": 36,
     "metadata": {},
     "output_type": "execute_result"
    }
   ],
   "source": [
    "sp.diff(x**3+4*x**2,x)"
   ]
  },
  {
   "cell_type": "markdown",
   "id": "6a56d548-c19b-4790-bb47-5771d45d9539",
   "metadata": {},
   "source": [
    "## 1d"
   ]
  },
  {
   "cell_type": "code",
   "execution_count": 38,
   "id": "254821e0-f37d-4759-8f90-1f3c95ac8519",
   "metadata": {},
   "outputs": [
    {
     "data": {
      "text/latex": [
       "$\\displaystyle 6 x^{2}$"
      ],
      "text/plain": [
       "6*x**2"
      ]
     },
     "execution_count": 38,
     "metadata": {},
     "output_type": "execute_result"
    }
   ],
   "source": [
    "sp.diff(2*x**3+36**1/2,x)"
   ]
  },
  {
   "cell_type": "markdown",
   "id": "68fd92ca-e79d-4898-a7fc-96eeb1d3d3e3",
   "metadata": {},
   "source": [
    "## 1e"
   ]
  },
  {
   "cell_type": "code",
   "execution_count": 40,
   "id": "b08818a6-a038-4178-a48e-d0aaad3c23d5",
   "metadata": {},
   "outputs": [
    {
     "data": {
      "text/latex": [
       "$\\displaystyle \\frac{1}{2}$"
      ],
      "text/plain": [
       "1/2"
      ]
     },
     "execution_count": 40,
     "metadata": {},
     "output_type": "execute_result"
    }
   ],
   "source": [
    "sp.diff(x**1/2+5**2,x)"
   ]
  },
  {
   "cell_type": "markdown",
   "id": "d60f32e5-0dda-402b-bf34-99d03f8a7590",
   "metadata": {},
   "source": [
    "## 1f"
   ]
  },
  {
   "cell_type": "code",
   "execution_count": 42,
   "id": "fb8d00e4-42db-4edc-8916-6a79d5646ecf",
   "metadata": {},
   "outputs": [
    {
     "data": {
      "text/latex": [
       "$\\displaystyle 3 x^{2} - \\frac{1}{x^{2}}$"
      ],
      "text/plain": [
       "3*x**2 - 1/x**2"
      ]
     },
     "execution_count": 42,
     "metadata": {},
     "output_type": "execute_result"
    }
   ],
   "source": [
    "sp.diff(x**3+1/x,x)"
   ]
  },
  {
   "cell_type": "markdown",
   "id": "556bbab2-d9cc-46bf-9458-2b3b51350464",
   "metadata": {},
   "source": [
    "## 1g"
   ]
  },
  {
   "cell_type": "code",
   "execution_count": 44,
   "id": "485968e3-e91a-4ef2-9c6a-21acba77c9e8",
   "metadata": {},
   "outputs": [
    {
     "data": {
      "text/latex": [
       "$\\displaystyle 3 x^{2} - 2 x + 0.25$"
      ],
      "text/plain": [
       "3*x**2 - 2*x + 0.25"
      ]
     },
     "execution_count": 44,
     "metadata": {},
     "output_type": "execute_result"
    }
   ],
   "source": [
    "sp.diff(x**3-x**2+1/4*x,x)"
   ]
  },
  {
   "cell_type": "markdown",
   "id": "a4bf78b5-d740-4499-8abb-5242a132e4a4",
   "metadata": {},
   "source": [
    "## 2a"
   ]
  },
  {
   "cell_type": "code",
   "execution_count": 46,
   "id": "f906b625-7dbb-439e-b8bc-cd84ab893b88",
   "metadata": {},
   "outputs": [
    {
     "data": {
      "text/latex": [
       "$\\displaystyle 36 x^{5} - \\frac{1}{x^{2}}$"
      ],
      "text/plain": [
       "36*x**5 - 1/x**2"
      ]
     },
     "execution_count": 46,
     "metadata": {},
     "output_type": "execute_result"
    }
   ],
   "source": [
    "sp.diff(1/x+6*x**6,x)"
   ]
  },
  {
   "cell_type": "markdown",
   "id": "eb64c91c-1ac4-4daa-9271-7036470c8d9b",
   "metadata": {},
   "source": [
    "## 2b"
   ]
  },
  {
   "cell_type": "code",
   "execution_count": 48,
   "id": "e9943428-13d9-4f82-811f-cde04a509a10",
   "metadata": {},
   "outputs": [
    {
     "data": {
      "text/latex": [
       "$\\displaystyle 1.5 x^{2} - 1$"
      ],
      "text/plain": [
       "1.5*x**2 - 1"
      ]
     },
     "execution_count": 48,
     "metadata": {},
     "output_type": "execute_result"
    }
   ],
   "source": [
    "sp.diff(-x+1/2*x**3,x)"
   ]
  },
  {
   "cell_type": "markdown",
   "id": "3b70e86c-03c4-4d3a-bd0e-1d4b0f02c1e5",
   "metadata": {},
   "source": [
    "## 2c"
   ]
  },
  {
   "cell_type": "code",
   "execution_count": 50,
   "id": "ec6dc25b-1230-4f8f-9c8b-a11f33ab6e00",
   "metadata": {},
   "outputs": [
    {
     "data": {
      "text/latex": [
       "$\\displaystyle x^{2} + x \\left(2 x + 2\\right) + 2 x - 3$"
      ],
      "text/plain": [
       "x**2 + x*(2*x + 2) + 2*x - 3"
      ]
     },
     "execution_count": 50,
     "metadata": {},
     "output_type": "execute_result"
    }
   ],
   "source": [
    "sp.diff(x*(x**2+2*x-3),x)"
   ]
  },
  {
   "cell_type": "markdown",
   "id": "04b86ab4-4852-47d8-aaa2-3b6266605084",
   "metadata": {},
   "source": [
    "# Oppgave 20"
   ]
  },
  {
   "cell_type": "markdown",
   "id": "c253f95e-0d7e-4959-9e54-c6d0088e9afa",
   "metadata": {},
   "source": [
    "## 1e"
   ]
  },
  {
   "cell_type": "code",
   "execution_count": 53,
   "id": "6ded949b-da68-423d-b586-81f073f8a827",
   "metadata": {},
   "outputs": [
    {
     "data": {
      "text/latex": [
       "$\\displaystyle 9 x^{8}$"
      ],
      "text/plain": [
       "9*x**8"
      ]
     },
     "execution_count": 53,
     "metadata": {},
     "output_type": "execute_result"
    }
   ],
   "source": [
    "sp.diff(x**4*x**5,x)"
   ]
  },
  {
   "cell_type": "markdown",
   "id": "4f3fb4c8-9e15-4517-93a3-eeb863ad8a68",
   "metadata": {},
   "source": [
    "## 1f"
   ]
  },
  {
   "cell_type": "code",
   "execution_count": 55,
   "id": "60111dad-042c-4584-a310-defdcc6a3f41",
   "metadata": {},
   "outputs": [
    {
     "data": {
      "text/latex": [
       "$\\displaystyle \\frac{3 \\sqrt{x}}{2}$"
      ],
      "text/plain": [
       "3*sqrt(x)/2"
      ]
     },
     "execution_count": 55,
     "metadata": {},
     "output_type": "execute_result"
    }
   ],
   "source": [
    "sp.diff(x*sqrt(x),x)"
   ]
  },
  {
   "cell_type": "markdown",
   "id": "12e94f2c-3b19-4fd5-a9ad-988a3ded9230",
   "metadata": {},
   "source": [
    "## 1g"
   ]
  },
  {
   "cell_type": "code",
   "execution_count": 57,
   "id": "716e8e27-ff1e-41a3-9f6f-3ffeb4a92aae",
   "metadata": {},
   "outputs": [
    {
     "data": {
      "text/latex": [
       "$\\displaystyle - \\frac{6}{x^{4}}$"
      ],
      "text/plain": [
       "-6/x**4"
      ]
     },
     "execution_count": 57,
     "metadata": {},
     "output_type": "execute_result"
    }
   ],
   "source": [
    "sp.diff(2/x**3,x)"
   ]
  },
  {
   "cell_type": "markdown",
   "id": "5d51338c-d4d4-4361-8b76-5422e5b43f24",
   "metadata": {},
   "source": [
    "## 1h"
   ]
  },
  {
   "cell_type": "code",
   "execution_count": 59,
   "id": "5d6d6eb0-ee55-49de-90c1-85174f8b543b",
   "metadata": {},
   "outputs": [
    {
     "data": {
      "text/latex": [
       "$\\displaystyle \\frac{2}{x^{2}} - \\frac{3 \\left(x^{2} - 2\\right)}{x^{4}}$"
      ],
      "text/plain": [
       "2/x**2 - 3*(x**2 - 2)/x**4"
      ]
     },
     "execution_count": 59,
     "metadata": {},
     "output_type": "execute_result"
    }
   ],
   "source": [
    "sp.diff((x**2-2)/x**3,x)"
   ]
  },
  {
   "cell_type": "markdown",
   "id": "736cfe47-356f-4d76-975b-1affd0a5d446",
   "metadata": {},
   "source": [
    "## 1i"
   ]
  },
  {
   "cell_type": "code",
   "execution_count": 61,
   "id": "9a2e08f2-911b-4cfc-afba-c5563928c845",
   "metadata": {},
   "outputs": [
    {
     "data": {
      "text/latex": [
       "$\\displaystyle \\frac{13 x^{\\frac{11}{2}}}{2}$"
      ],
      "text/plain": [
       "13*x**(11/2)/2"
      ]
     },
     "execution_count": 61,
     "metadata": {},
     "output_type": "execute_result"
    }
   ],
   "source": [
    "sp.diff(sqrt(x)*x**6,x)"
   ]
  },
  {
   "cell_type": "markdown",
   "id": "85044bde-8579-4618-8650-e0d7271ea0fc",
   "metadata": {},
   "source": [
    "## 1j"
   ]
  },
  {
   "cell_type": "code",
   "execution_count": 63,
   "id": "d923e40f-4b81-4b94-8ca1-b0bb22262f53",
   "metadata": {},
   "outputs": [
    {
     "data": {
      "text/latex": [
       "$\\displaystyle 3 x^{2} + 1$"
      ],
      "text/plain": [
       "3*x**2 + 1"
      ]
     },
     "execution_count": 63,
     "metadata": {},
     "output_type": "execute_result"
    }
   ],
   "source": [
    "sp.diff(x*(x**2+1),x)"
   ]
  },
  {
   "cell_type": "markdown",
   "id": "8263c046-8ebe-45a0-ad34-267bf102c7f1",
   "metadata": {},
   "source": [
    "## 1k"
   ]
  },
  {
   "cell_type": "code",
   "execution_count": 65,
   "id": "f5af8a0d-097a-4281-b438-4ec12dc58ee9",
   "metadata": {},
   "outputs": [
    {
     "data": {
      "text/latex": [
       "$\\displaystyle - \\frac{3 x^{2} \\left(x^{2} + 4\\right)}{\\left(x^{3} - 1\\right)^{2}} + \\frac{2 x}{x^{3} - 1}$"
      ],
      "text/plain": [
       "-3*x**2*(x**2 + 4)/(x**3 - 1)**2 + 2*x/(x**3 - 1)"
      ]
     },
     "execution_count": 65,
     "metadata": {},
     "output_type": "execute_result"
    }
   ],
   "source": [
    "sp.diff((x**2+4)/(x**3-1),x)"
   ]
  },
  {
   "cell_type": "markdown",
   "id": "01e7c366-af68-43f4-a1ed-c1ca9139d592",
   "metadata": {},
   "source": [
    "## 1l"
   ]
  },
  {
   "cell_type": "code",
   "execution_count": 67,
   "id": "ed4f1af6-810f-49cd-b163-ab6a2f97b50f",
   "metadata": {},
   "outputs": [
    {
     "data": {
      "text/latex": [
       "$\\displaystyle \\frac{x^{2} \\left(- 2 x - 2\\right)}{\\left(x^{2} + 2 x\\right)^{2}} + \\frac{2 x}{x^{2} + 2 x}$"
      ],
      "text/plain": [
       "x**2*(-2*x - 2)/(x**2 + 2*x)**2 + 2*x/(x**2 + 2*x)"
      ]
     },
     "execution_count": 67,
     "metadata": {},
     "output_type": "execute_result"
    }
   ],
   "source": [
    "sp.diff(x**2/(x**2+2*x),x)"
   ]
  },
  {
   "cell_type": "markdown",
   "id": "79c2dd29-d445-4eea-87cc-7ef838718a53",
   "metadata": {},
   "source": [
    "## 1m"
   ]
  },
  {
   "cell_type": "code",
   "execution_count": 69,
   "id": "4bc77449-de12-4bbf-b020-ea717c9b4b4d",
   "metadata": {},
   "outputs": [
    {
     "data": {
      "text/latex": [
       "$\\displaystyle \\frac{2 x + 4}{x - 2} - \\frac{x^{2} + 4 x + 2}{\\left(x - 2\\right)^{2}}$"
      ],
      "text/plain": [
       "(2*x + 4)/(x - 2) - (x**2 + 4*x + 2)/(x - 2)**2"
      ]
     },
     "execution_count": 69,
     "metadata": {},
     "output_type": "execute_result"
    }
   ],
   "source": [
    "sp.diff((x**2+4*x+2)/(x-2),x)"
   ]
  },
  {
   "cell_type": "markdown",
   "id": "6e7140cd-48e2-4da0-b56c-cbd26103f010",
   "metadata": {},
   "source": [
    "## 2a"
   ]
  },
  {
   "cell_type": "code",
   "execution_count": 71,
   "id": "90ee23ee-a609-4bcd-b312-0ff46342ef98",
   "metadata": {},
   "outputs": [
    {
     "data": {
      "text/latex": [
       "$\\displaystyle - \\frac{2 x \\left(x^{3} - 2 x\\right)}{\\left(x^{2} - 1\\right)^{2}} + \\frac{3 x^{2} - 2}{x^{2} - 1}$"
      ],
      "text/plain": [
       "-2*x*(x**3 - 2*x)/(x**2 - 1)**2 + (3*x**2 - 2)/(x**2 - 1)"
      ]
     },
     "execution_count": 71,
     "metadata": {},
     "output_type": "execute_result"
    }
   ],
   "source": [
    "sp.diff((x**3-2*x)/(x**2-1),x)"
   ]
  },
  {
   "cell_type": "markdown",
   "id": "08f4bdca-0e53-4786-a4a6-2238ce0ffb4c",
   "metadata": {},
   "source": [
    "## 2b"
   ]
  },
  {
   "cell_type": "code",
   "execution_count": 73,
   "id": "6868aae8-905c-4f68-8555-3b75dad4fa08",
   "metadata": {},
   "outputs": [
    {
     "data": {
      "text/latex": [
       "$\\displaystyle 2 x \\left(x^{2} - 1\\right) + 2 x \\left(x^{2} + 1\\right)$"
      ],
      "text/plain": [
       "2*x*(x**2 - 1) + 2*x*(x**2 + 1)"
      ]
     },
     "execution_count": 73,
     "metadata": {},
     "output_type": "execute_result"
    }
   ],
   "source": [
    "sp.diff((x**2+1)*(x**2-1),x)"
   ]
  },
  {
   "cell_type": "markdown",
   "id": "a830ac52-0f32-44a6-9695-5ba1e78c6b91",
   "metadata": {},
   "source": [
    "## 2c"
   ]
  },
  {
   "cell_type": "code",
   "execution_count": 75,
   "id": "065f1224-7b26-4b52-9374-35cf137c6c31",
   "metadata": {},
   "outputs": [
    {
     "data": {
      "text/latex": [
       "$\\displaystyle - \\frac{3 x^{2} \\left(3 x - 4\\right)}{\\left(x^{3} + 7\\right)^{2}} + \\frac{3}{x^{3} + 7}$"
      ],
      "text/plain": [
       "-3*x**2*(3*x - 4)/(x**3 + 7)**2 + 3/(x**3 + 7)"
      ]
     },
     "execution_count": 75,
     "metadata": {},
     "output_type": "execute_result"
    }
   ],
   "source": [
    "sp.diff((3*x-4)/(x**3+7),x)"
   ]
  },
  {
   "cell_type": "markdown",
   "id": "94d1135d-d93c-465b-8d30-5701fd48a42d",
   "metadata": {},
   "source": [
    "# Oppgave 21"
   ]
  },
  {
   "cell_type": "markdown",
   "id": "b72bd54e-49b2-49b2-bbdd-1a6abea607af",
   "metadata": {},
   "source": [
    "## 1a"
   ]
  },
  {
   "cell_type": "code",
   "execution_count": 78,
   "id": "afb4d6d9-b3a4-47d2-8095-025fb1d1a712",
   "metadata": {},
   "outputs": [
    {
     "data": {
      "text/latex": [
       "$\\displaystyle \\left(15 x^{2} + 30\\right) \\left(x^{3} + 6 x\\right)^{4}$"
      ],
      "text/plain": [
       "(15*x**2 + 30)*(x**3 + 6*x)**4"
      ]
     },
     "execution_count": 78,
     "metadata": {},
     "output_type": "execute_result"
    }
   ],
   "source": [
    "sp.diff((x**3+6*x)**5,x)"
   ]
  },
  {
   "cell_type": "markdown",
   "id": "c55bb62f-6a09-4776-95ed-0dbab2b94ee8",
   "metadata": {},
   "source": [
    "## 1b"
   ]
  },
  {
   "cell_type": "code",
   "execution_count": 80,
   "id": "a80c918d-88b8-4fce-b358-e8575343b2a3",
   "metadata": {},
   "outputs": [
    {
     "data": {
      "text/latex": [
       "$\\displaystyle \\frac{2 x}{\\sqrt{2 x^{2} + 5}}$"
      ],
      "text/plain": [
       "2*x/sqrt(2*x**2 + 5)"
      ]
     },
     "execution_count": 80,
     "metadata": {},
     "output_type": "execute_result"
    }
   ],
   "source": [
    "sp.diff(sqrt(2*x**2+5),x)"
   ]
  },
  {
   "cell_type": "markdown",
   "id": "eebe52a5-4905-42d9-bf13-4ced5601316c",
   "metadata": {},
   "source": [
    "## 1c"
   ]
  },
  {
   "cell_type": "code",
   "execution_count": 82,
   "id": "7d92522d-0b80-412f-9dc5-443f3ec9361f",
   "metadata": {},
   "outputs": [
    {
     "data": {
      "text/latex": [
       "$\\displaystyle - \\frac{8 \\left(3 + \\frac{2}{x}\\right)^{3}}{x^{2}}$"
      ],
      "text/plain": [
       "-8*(3 + 2/x)**3/x**2"
      ]
     },
     "execution_count": 82,
     "metadata": {},
     "output_type": "execute_result"
    }
   ],
   "source": [
    "sp.diff((2*x/x**2+3)**4,x)"
   ]
  },
  {
   "cell_type": "markdown",
   "id": "50221f7e-c45e-4479-9471-183dbe3d46f5",
   "metadata": {},
   "source": [
    "## 1d"
   ]
  },
  {
   "cell_type": "code",
   "execution_count": 84,
   "id": "03896bf4-2c80-4a1b-b140-67abf819b966",
   "metadata": {},
   "outputs": [
    {
     "data": {
      "text/latex": [
       "$\\displaystyle 12.0 x^{3} \\left(2 x^{4} + 9\\right)^{0.5}$"
      ],
      "text/plain": [
       "12.0*x**3*(2*x**4 + 9)**0.5"
      ]
     },
     "execution_count": 84,
     "metadata": {},
     "output_type": "execute_result"
    }
   ],
   "source": [
    "sp.diff((2*x**4+9)**1.5,x)"
   ]
  },
  {
   "cell_type": "markdown",
   "id": "ffe7b7e7-4dc0-48a3-956b-b3254535770c",
   "metadata": {},
   "source": [
    "## 1e"
   ]
  },
  {
   "cell_type": "code",
   "execution_count": 86,
   "id": "d0d3b2cb-cd28-4880-8c1c-0dbdbd085d4f",
   "metadata": {},
   "outputs": [
    {
     "data": {
      "text/latex": [
       "$\\displaystyle - \\frac{x}{\\left(x^{2} + 1\\right)^{\\frac{3}{2}}}$"
      ],
      "text/plain": [
       "-x/(x**2 + 1)**(3/2)"
      ]
     },
     "execution_count": 86,
     "metadata": {},
     "output_type": "execute_result"
    }
   ],
   "source": [
    "sp.diff((1/sqrt(1+x**2)),x)"
   ]
  },
  {
   "cell_type": "markdown",
   "id": "749e82d2-ffb3-4414-9b84-ae92210efbda",
   "metadata": {},
   "source": [
    "## 1f"
   ]
  },
  {
   "cell_type": "code",
   "execution_count": 88,
   "id": "475d1c8b-ec6e-41d7-981f-38e229cd17d2",
   "metadata": {},
   "outputs": [
    {
     "data": {
      "text/latex": [
       "$\\displaystyle x^{2} \\left(6 x + 6\\right) \\left(x^{2} + 2 x\\right)^{2} + 2 x \\left(x^{2} + 2 x\\right)^{3}$"
      ],
      "text/plain": [
       "x**2*(6*x + 6)*(x**2 + 2*x)**2 + 2*x*(x**2 + 2*x)**3"
      ]
     },
     "execution_count": 88,
     "metadata": {},
     "output_type": "execute_result"
    }
   ],
   "source": [
    "sp.diff(x**2*(x**2+2*x)**3,x)"
   ]
  },
  {
   "cell_type": "markdown",
   "id": "484408e4-96d2-4256-aba3-796f36bc39ca",
   "metadata": {},
   "source": [
    "## 1g"
   ]
  },
  {
   "cell_type": "code",
   "execution_count": 90,
   "id": "41be839d-a692-49aa-bf85-0b9d4bc6d63b",
   "metadata": {},
   "outputs": [
    {
     "data": {
      "text/latex": [
       "$\\displaystyle \\frac{x^{2} \\left(x - 1\\right)}{\\sqrt{x^{2} - 2 x}} + 2 x \\sqrt{x^{2} - 2 x}$"
      ],
      "text/plain": [
       "x**2*(x - 1)/sqrt(x**2 - 2*x) + 2*x*sqrt(x**2 - 2*x)"
      ]
     },
     "execution_count": 90,
     "metadata": {},
     "output_type": "execute_result"
    }
   ],
   "source": [
    "sp.diff(x**2*sqrt(x**2-2*x),x)"
   ]
  },
  {
   "cell_type": "markdown",
   "id": "ee2db364-b00f-4548-9a8d-305bda18a351",
   "metadata": {},
   "source": [
    "## 1h"
   ]
  },
  {
   "cell_type": "code",
   "execution_count": 92,
   "id": "48b2227e-7e52-4d31-ac98-4bcffebbbc9e",
   "metadata": {},
   "outputs": [
    {
     "data": {
      "text/latex": [
       "$\\displaystyle \\frac{x^{2} \\left(- 6 x - 3\\right)}{\\left(x^{2} + x\\right)^{4}} + \\frac{2 x}{\\left(x^{2} + x\\right)^{3}}$"
      ],
      "text/plain": [
       "x**2*(-6*x - 3)/(x**2 + x)**4 + 2*x/(x**2 + x)**3"
      ]
     },
     "execution_count": 92,
     "metadata": {},
     "output_type": "execute_result"
    }
   ],
   "source": [
    "sp.diff(x**2/(x**2+x)**3,x)"
   ]
  },
  {
   "cell_type": "markdown",
   "id": "f5347ec6-e5e2-4ca6-b922-972192b48072",
   "metadata": {},
   "source": [
    "## 1i"
   ]
  },
  {
   "cell_type": "code",
   "execution_count": 94,
   "id": "076aaf1d-9827-4b8b-9463-323d67b5cbf3",
   "metadata": {},
   "outputs": [
    {
     "data": {
      "text/latex": [
       "$\\displaystyle 9 x^{2} \\left(x^{2} + 1\\right)^{2} \\left(x^{3} + 1\\right)^{2} + 4 x \\left(x^{2} + 1\\right) \\left(x^{3} + 1\\right)^{3}$"
      ],
      "text/plain": [
       "9*x**2*(x**2 + 1)**2*(x**3 + 1)**2 + 4*x*(x**2 + 1)*(x**3 + 1)**3"
      ]
     },
     "execution_count": 94,
     "metadata": {},
     "output_type": "execute_result"
    }
   ],
   "source": [
    "sp.diff((x**2+1)**2*(x**3+1)**3,x)"
   ]
  },
  {
   "cell_type": "markdown",
   "id": "da864e4e-7760-4696-a5b0-a691d65a563f",
   "metadata": {},
   "source": [
    "## 2a"
   ]
  },
  {
   "cell_type": "code",
   "execution_count": 96,
   "id": "c93fe13d-2aab-4319-9600-ce7e3bf4826f",
   "metadata": {},
   "outputs": [
    {
     "data": {
      "text/latex": [
       "$\\displaystyle \\frac{\\left(24 x + 8\\right) \\sqrt{\\left(3 x^{2} + 2 x\\right)^{4}}}{2 \\left(3 x^{2} + 2 x\\right)}$"
      ],
      "text/plain": [
       "(24*x + 8)*sqrt((3*x**2 + 2*x)**4)/(2*(3*x**2 + 2*x))"
      ]
     },
     "execution_count": 96,
     "metadata": {},
     "output_type": "execute_result"
    }
   ],
   "source": [
    "sp.diff(sqrt((3*x**2+2*x)**4),x)"
   ]
  },
  {
   "cell_type": "markdown",
   "id": "db3d7a78-e3b5-4e8f-9336-8d5e907c03fa",
   "metadata": {},
   "source": [
    "## 2b"
   ]
  },
  {
   "cell_type": "code",
   "execution_count": 98,
   "id": "a814bedc-8319-4352-a4d2-a1a035fe6859",
   "metadata": {},
   "outputs": [
    {
     "data": {
      "text/latex": [
       "$\\displaystyle 15 x^{2} \\left(x^{2} + 3\\right)^{4} \\left(x^{3} + 3\\right)^{4} + 8 x \\left(x^{2} + 3\\right)^{3} \\left(x^{3} + 3\\right)^{5}$"
      ],
      "text/plain": [
       "15*x**2*(x**2 + 3)**4*(x**3 + 3)**4 + 8*x*(x**2 + 3)**3*(x**3 + 3)**5"
      ]
     },
     "execution_count": 98,
     "metadata": {},
     "output_type": "execute_result"
    }
   ],
   "source": [
    "sp.diff((x**3+3)**5*(x**2+3)**4,x)"
   ]
  },
  {
   "cell_type": "markdown",
   "id": "7d1d562e-1806-4355-9d05-de1895621531",
   "metadata": {},
   "source": [
    "## 2c"
   ]
  },
  {
   "cell_type": "code",
   "execution_count": 100,
   "id": "525eea40-3a40-4298-882c-cbf7c803ab45",
   "metadata": {},
   "outputs": [
    {
     "data": {
      "text/latex": [
       "$\\displaystyle \\frac{x^{3}}{\\sqrt{x^{2} + 1}} + 2 x \\sqrt{x^{2} + 1}$"
      ],
      "text/plain": [
       "x**3/sqrt(x**2 + 1) + 2*x*sqrt(x**2 + 1)"
      ]
     },
     "execution_count": 100,
     "metadata": {},
     "output_type": "execute_result"
    }
   ],
   "source": [
    "sp.diff(sqrt(x**2+1)*x**2,x)"
   ]
  },
  {
   "cell_type": "markdown",
   "id": "49ddf702-f35e-4bcc-9200-166e45268ab1",
   "metadata": {},
   "source": [
    "## 2d"
   ]
  },
  {
   "cell_type": "code",
   "execution_count": 102,
   "id": "2bb3a992-bebd-4402-9085-cc294c36a4f9",
   "metadata": {},
   "outputs": [
    {
     "data": {
      "text/latex": [
       "$\\displaystyle \\frac{\\left(18 x + 6\\right) \\left(3 x^{2} + 2 x\\right)^{2}}{x^{2}} - \\frac{2 \\left(3 x^{2} + 2 x\\right)^{3}}{x^{3}}$"
      ],
      "text/plain": [
       "(18*x + 6)*(3*x**2 + 2*x)**2/x**2 - 2*(3*x**2 + 2*x)**3/x**3"
      ]
     },
     "execution_count": 102,
     "metadata": {},
     "output_type": "execute_result"
    }
   ],
   "source": [
    "sp.diff((2*x+3*x**2)**3/x**2,x)"
   ]
  },
  {
   "cell_type": "markdown",
   "id": "f473c368-c4c7-4a3d-8146-7267bcdc33c1",
   "metadata": {},
   "source": [
    "## 2e"
   ]
  },
  {
   "cell_type": "code",
   "execution_count": 104,
   "id": "57056b0e-12fb-4872-aba3-dc15d24e8ef9",
   "metadata": {},
   "outputs": [
    {
     "data": {
      "text/latex": [
       "$\\displaystyle \\frac{6 x^{3}}{\\sqrt{x^{4} - 5}}$"
      ],
      "text/plain": [
       "6*x**3/sqrt(x**4 - 5)"
      ]
     },
     "execution_count": 104,
     "metadata": {},
     "output_type": "execute_result"
    }
   ],
   "source": [
    "sp.diff(3*sqrt(x**4-5),x)"
   ]
  },
  {
   "cell_type": "markdown",
   "id": "01df4923-388e-4aad-96c9-a06691d646e7",
   "metadata": {},
   "source": [
    "## 2f"
   ]
  },
  {
   "cell_type": "code",
   "execution_count": 106,
   "id": "454a37ef-ad6d-4bdc-9416-00cd7ad884cc",
   "metadata": {},
   "outputs": [
    {
     "data": {
      "text/latex": [
       "$\\displaystyle - \\frac{2 x^{6}}{\\left(x^{4} - 1\\right)^{\\frac{3}{2}}} + \\frac{3 x^{2}}{\\sqrt{x^{4} - 1}}$"
      ],
      "text/plain": [
       "-2*x**6/(x**4 - 1)**(3/2) + 3*x**2/sqrt(x**4 - 1)"
      ]
     },
     "execution_count": 106,
     "metadata": {},
     "output_type": "execute_result"
    }
   ],
   "source": [
    "sp.diff(x**3/sqrt(x**4-1),x)"
   ]
  },
  {
   "cell_type": "markdown",
   "id": "321bec6a-9d9f-4bea-8bc2-72a4677fc16f",
   "metadata": {},
   "source": [
    "# Oppgave 22"
   ]
  },
  {
   "cell_type": "markdown",
   "id": "f30507a0-3fc4-40da-998c-38d7d7d03778",
   "metadata": {},
   "source": [
    "## 1a"
   ]
  },
  {
   "cell_type": "code",
   "execution_count": 124,
   "id": "40196cec-5451-4336-bfaa-6ab6f268acb6",
   "metadata": {},
   "outputs": [
    {
     "data": {
      "text/latex": [
       "$\\displaystyle \\frac{1}{x}$"
      ],
      "text/plain": [
       "1/x"
      ]
     },
     "execution_count": 124,
     "metadata": {},
     "output_type": "execute_result"
    }
   ],
   "source": [
    "sp.diff(ln(5*x),x)"
   ]
  },
  {
   "cell_type": "markdown",
   "id": "498b7322-5540-4853-8546-79796cdba12d",
   "metadata": {},
   "source": [
    "## 1b"
   ]
  },
  {
   "cell_type": "code",
   "execution_count": 125,
   "id": "ec66f6bf-3bbc-4fe4-968b-04d032a11364",
   "metadata": {},
   "outputs": [
    {
     "data": {
      "text/latex": [
       "$\\displaystyle - 2 e^{- 2 x}$"
      ],
      "text/plain": [
       "-2*exp(-2*x)"
      ]
     },
     "execution_count": 125,
     "metadata": {},
     "output_type": "execute_result"
    }
   ],
   "source": [
    "sp.diff(exp(-2*x),x)"
   ]
  },
  {
   "cell_type": "markdown",
   "id": "3697db2c-2314-4174-a6c3-c28d94c50df2",
   "metadata": {},
   "source": [
    "## 1c"
   ]
  },
  {
   "cell_type": "code",
   "execution_count": 127,
   "id": "00c6f75f-c341-48ea-83b2-2f93f2b32897",
   "metadata": {},
   "outputs": [
    {
     "data": {
      "text/latex": [
       "$\\displaystyle \\frac{1}{x}$"
      ],
      "text/plain": [
       "1/x"
      ]
     },
     "execution_count": 127,
     "metadata": {},
     "output_type": "execute_result"
    }
   ],
   "source": [
    "sp.diff((ln(12*x)-3),x)"
   ]
  },
  {
   "cell_type": "markdown",
   "id": "8968fd12-6f46-4cc5-a81c-34f452030f97",
   "metadata": {},
   "source": [
    "## 1d"
   ]
  },
  {
   "cell_type": "code",
   "execution_count": 128,
   "id": "b54cc8dc-cea3-4376-8b03-85994909a105",
   "metadata": {},
   "outputs": [
    {
     "data": {
      "text/latex": [
       "$\\displaystyle 2^{x} \\log{\\left(2 \\right)}$"
      ],
      "text/plain": [
       "2**x*log(2)"
      ]
     },
     "execution_count": 128,
     "metadata": {},
     "output_type": "execute_result"
    }
   ],
   "source": [
    "sp.diff((2**x),x)"
   ]
  },
  {
   "cell_type": "markdown",
   "id": "a60c4da5-bda1-4760-b604-ee41465a3026",
   "metadata": {},
   "source": [
    "## 1e"
   ]
  },
  {
   "cell_type": "code",
   "execution_count": 129,
   "id": "a981d587-6dca-475c-a41d-dba0c6222551",
   "metadata": {},
   "outputs": [
    {
     "data": {
      "text/latex": [
       "$\\displaystyle 3 e^{3 x + 5}$"
      ],
      "text/plain": [
       "3*exp(3*x + 5)"
      ]
     },
     "execution_count": 129,
     "metadata": {},
     "output_type": "execute_result"
    }
   ],
   "source": [
    "sp.diff(exp(3*x+5),x)"
   ]
  },
  {
   "cell_type": "markdown",
   "id": "a8b3dc10-a18e-40bc-b171-e2e92ef02906",
   "metadata": {},
   "source": [
    "## 1f"
   ]
  },
  {
   "cell_type": "code",
   "execution_count": 131,
   "id": "4cf23c64-2e50-4811-adb9-4081701b6f15",
   "metadata": {},
   "outputs": [
    {
     "data": {
      "text/latex": [
       "$\\displaystyle \\frac{5 x^{4}}{x^{5} + 1}$"
      ],
      "text/plain": [
       "5*x**4/(x**5 + 1)"
      ]
     },
     "execution_count": 131,
     "metadata": {},
     "output_type": "execute_result"
    }
   ],
   "source": [
    "sp.diff(ln(x**5+1),x)"
   ]
  },
  {
   "cell_type": "markdown",
   "id": "3342458d-c3db-4c10-881f-14cc7edda930",
   "metadata": {},
   "source": [
    "## 1g"
   ]
  },
  {
   "cell_type": "code",
   "execution_count": 133,
   "id": "0e95b9d2-005c-4df2-93f8-543f9c79a799",
   "metadata": {},
   "outputs": [
    {
     "data": {
      "text/latex": [
       "$\\displaystyle \\left(8 x + 8\\right) e^{4 x^{2} + 8 x}$"
      ],
      "text/plain": [
       "(8*x + 8)*exp(4*x**2 + 8*x)"
      ]
     },
     "execution_count": 133,
     "metadata": {},
     "output_type": "execute_result"
    }
   ],
   "source": [
    "sp.diff(exp(4*x**2+8*x),x)"
   ]
  },
  {
   "cell_type": "markdown",
   "id": "6cae440f-3275-4ecd-9c38-dd3a9c1890f9",
   "metadata": {},
   "source": [
    "## 1h"
   ]
  },
  {
   "cell_type": "code",
   "execution_count": 137,
   "id": "c10cf033-3642-4f4a-877a-82af541f38e2",
   "metadata": {},
   "outputs": [
    {
     "data": {
      "text/latex": [
       "$\\displaystyle - \\frac{1}{x}$"
      ],
      "text/plain": [
       "-1/x"
      ]
     },
     "execution_count": 137,
     "metadata": {},
     "output_type": "execute_result"
    }
   ],
   "source": [
    "sp.diff(ln(1/x),x)"
   ]
  },
  {
   "cell_type": "markdown",
   "id": "12b00506-92b2-4888-af0f-9339d82cc575",
   "metadata": {},
   "source": [
    "## 1i"
   ]
  },
  {
   "cell_type": "code",
   "execution_count": 139,
   "id": "a0bf3550-f4d9-4a96-b2be-f60f5768eaef",
   "metadata": {},
   "outputs": [
    {
     "data": {
      "text/latex": [
       "$\\displaystyle 12 e^{4 x} + \\frac{6}{x}$"
      ],
      "text/plain": [
       "12*exp(4*x) + 6/x"
      ]
     },
     "execution_count": 139,
     "metadata": {},
     "output_type": "execute_result"
    }
   ],
   "source": [
    "sp.diff(6*ln(x)+3*exp(4*x),x)"
   ]
  },
  {
   "cell_type": "markdown",
   "id": "161b3992-0cc2-4383-9d8e-647f4d66a62d",
   "metadata": {},
   "source": [
    "## 1j"
   ]
  },
  {
   "cell_type": "code",
   "execution_count": 141,
   "id": "83ffde27-f9e5-415e-96d1-3bd032fd0e65",
   "metadata": {},
   "outputs": [
    {
     "data": {
      "text/latex": [
       "$\\displaystyle - x e^{- x} + e^{- x}$"
      ],
      "text/plain": [
       "-x*exp(-x) + exp(-x)"
      ]
     },
     "execution_count": 141,
     "metadata": {},
     "output_type": "execute_result"
    }
   ],
   "source": [
    "sp.diff(x*exp(-x),x)"
   ]
  },
  {
   "cell_type": "markdown",
   "id": "6784beee-7d86-442d-80ed-5dc37957ecab",
   "metadata": {},
   "source": [
    "## 1k"
   ]
  },
  {
   "cell_type": "code",
   "execution_count": 143,
   "id": "cc804435-8b11-4a37-a977-f5921dfbf9f6",
   "metadata": {},
   "outputs": [
    {
     "data": {
      "text/latex": [
       "$\\displaystyle \\frac{2 x^{3}}{x^{2} + 2} + 2 x \\log{\\left(x^{2} + 2 \\right)}$"
      ],
      "text/plain": [
       "2*x**3/(x**2 + 2) + 2*x*log(x**2 + 2)"
      ]
     },
     "execution_count": 143,
     "metadata": {},
     "output_type": "execute_result"
    }
   ],
   "source": [
    "sp.diff(x**2*ln(x**2+2),x)"
   ]
  },
  {
   "cell_type": "markdown",
   "id": "3a634ba6-7cff-4afa-8cbc-7d1f4fadb468",
   "metadata": {},
   "source": [
    "##Oppgave 2"
   ]
  },
  {
   "cell_type": "markdown",
   "id": "15d768da-c067-4357-a7f2-d5764739674d",
   "metadata": {},
   "source": [
    "2a"
   ]
  },
  {
   "cell_type": "code",
   "execution_count": 146,
   "id": "09ac0d0e-0589-4cae-ac7f-20f865847fe2",
   "metadata": {},
   "outputs": [
    {
     "data": {
      "text/latex": [
       "$\\displaystyle 2 x^{3} e^{2 x} + 3 x^{2} e^{2 x}$"
      ],
      "text/plain": [
       "2*x**3*exp(2*x) + 3*x**2*exp(2*x)"
      ]
     },
     "execution_count": 146,
     "metadata": {},
     "output_type": "execute_result"
    }
   ],
   "source": [
    "sp.diff(x**3*exp(2*x),x)"
   ]
  },
  {
   "cell_type": "markdown",
   "id": "977493a4-43ae-4db0-9aff-42ca9ed03eb3",
   "metadata": {},
   "source": [
    "2b"
   ]
  },
  {
   "cell_type": "code",
   "execution_count": 148,
   "id": "7fddb27e-b8b5-45b9-a283-eea2547440f5",
   "metadata": {},
   "outputs": [
    {
     "data": {
      "text/latex": [
       "$\\displaystyle \\frac{\\left(x^{2} + 1\\right) \\left(- \\frac{2 x \\left(x^{2} - 1\\right)}{\\left(x^{2} + 1\\right)^{2}} + \\frac{2 x}{x^{2} + 1}\\right)}{x^{2} - 1}$"
      ],
      "text/plain": [
       "(x**2 + 1)*(-2*x*(x**2 - 1)/(x**2 + 1)**2 + 2*x/(x**2 + 1))/(x**2 - 1)"
      ]
     },
     "execution_count": 148,
     "metadata": {},
     "output_type": "execute_result"
    }
   ],
   "source": [
    "sp.diff(ln((x**2-1)/(x**2+1)),x)"
   ]
  },
  {
   "cell_type": "markdown",
   "id": "682f10e6-0c9e-47ee-b2f8-e803a56e23eb",
   "metadata": {},
   "source": [
    "2c"
   ]
  },
  {
   "cell_type": "code",
   "execution_count": 150,
   "id": "eb195988-c176-45bb-8b3a-4687136c113a",
   "metadata": {},
   "outputs": [
    {
     "data": {
      "text/latex": [
       "$\\displaystyle \\frac{2 x^{3}}{x^{2} + 2} + 2 x \\log{\\left(x^{2} + 2 \\right)}$"
      ],
      "text/plain": [
       "2*x**3/(x**2 + 2) + 2*x*log(x**2 + 2)"
      ]
     },
     "execution_count": 150,
     "metadata": {},
     "output_type": "execute_result"
    }
   ],
   "source": [
    "sp.diff(x**2*ln(x**2+2),x)"
   ]
  },
  {
   "cell_type": "markdown",
   "id": "3908a10a-2af2-49c0-8950-b2c74d725baa",
   "metadata": {},
   "source": [
    "2d"
   ]
  },
  {
   "cell_type": "code",
   "execution_count": 153,
   "id": "b49c94e6-4a19-4330-8b6a-a853f2ad334d",
   "metadata": {},
   "outputs": [
    {
     "data": {
      "text/latex": [
       "$\\displaystyle - \\frac{2 x e^{- x}}{\\left(x^{2} + 1\\right)^{2}} - \\frac{e^{- x}}{x^{2} + 1}$"
      ],
      "text/plain": [
       "-2*x*exp(-x)/(x**2 + 1)**2 - exp(-x)/(x**2 + 1)"
      ]
     },
     "execution_count": 153,
     "metadata": {},
     "output_type": "execute_result"
    }
   ],
   "source": [
    "sp.diff((exp(-x)/(x**2+1)),x)"
   ]
  },
  {
   "cell_type": "code",
   "execution_count": null,
   "id": "5c2fbf76-6a58-4992-8078-03169cfc4998",
   "metadata": {},
   "outputs": [],
   "source": []
  }
 ],
 "metadata": {
  "kernelspec": {
   "display_name": "Python 3 (ipykernel)",
   "language": "python",
   "name": "python3"
  },
  "language_info": {
   "codemirror_mode": {
    "name": "ipython",
    "version": 3
   },
   "file_extension": ".py",
   "mimetype": "text/x-python",
   "name": "python",
   "nbconvert_exporter": "python",
   "pygments_lexer": "ipython3",
   "version": "3.9.5"
  }
 },
 "nbformat": 4,
 "nbformat_minor": 5
}
